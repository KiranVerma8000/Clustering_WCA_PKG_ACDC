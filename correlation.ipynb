{
 "cells": [
  {
   "cell_type": "code",
   "execution_count": 17,
   "metadata": {},
   "outputs": [
    {
     "name": "stdout",
     "output_type": "stream",
     "text": [
      "Correlation results saved to ./correlation_results.json\n"
     ]
    }
   ],
   "source": [
    "import json\n",
    "import os\n",
    "import pandas as pd\n",
    "import numpy as np\n",
    "from scipy.stats import pearsonr\n",
    "\n",
    "# Load DMM metrics from Excel file\n",
    "excel_file_path = './inputs/filtered_commit_metrics.xlsx'\n",
    "dmm_data = pd.read_excel(excel_file_path)\n",
    "\n",
    "# Select relevant DMM metrics\n",
    "dmm_metrics = dmm_data[['DMM Unit Complexity', 'DMM Unit Size', 'DMM Unit Interfacing']]\n",
    "\n",
    "# Define the folder containing JSON files\n",
    "json_folder_path = './A2A_metrics'\n",
    "\n",
    "# Dictionary to store correlation results\n",
    "correlation_results = {}\n",
    "\n",
    "# Iterate over JSON files in the folder\n",
    "for file_name in os.listdir(json_folder_path):\n",
    "    if file_name.endswith('.json'):\n",
    "        file_path = os.path.join(json_folder_path, file_name)\n",
    "        with open(file_path, 'r') as file:\n",
    "            try:\n",
    "                a2a_scores = []\n",
    "                data = json.load(file)\n",
    "                for value in data.values():\n",
    "                    if value != \"NaN\":\n",
    "                        try:\n",
    "                            a2a_score = float(value)\n",
    "                            if not np.isnan(a2a_score) and not np.isinf(a2a_score):\n",
    "                                a2a_scores.append(a2a_score)\n",
    "                        except ValueError:\n",
    "                            print(f\"Invalid A2A score '{value}' in {file_name}\")\n",
    "\n",
    "                # Check if A2A scores exist\n",
    "                if not a2a_scores:\n",
    "                    print(f\"No valid A2A scores found in {file_name}\")\n",
    "                    continue\n",
    "\n",
    "                # Convert DMM metric values to numpy arrays\n",
    "                dmm_metric_values = dmm_metrics.values.astype(float)[:len(a2a_scores)]\n",
    "\n",
    "                # Filter out NaN and infinite values from DMM metric values\n",
    "                valid_indices = ~np.isnan(dmm_metric_values).any(axis=1) & ~np.isinf(dmm_metric_values).any(axis=1)\n",
    "                dmm_metric_values = dmm_metric_values[valid_indices]\n",
    "                a2a_scores = np.array(a2a_scores)[valid_indices]\n",
    "\n",
    "                # Perform Pearson correlation coefficient test\n",
    "                correlation_results[file_name] = {}\n",
    "                for col in dmm_metrics.columns:\n",
    "                    correlation_coefficient, p_value = pearsonr(dmm_metric_values[:, dmm_metrics.columns.get_loc(col)], a2a_scores)\n",
    "                    correlation_results[file_name][col] = {\"correlation_coefficient\": correlation_coefficient, \"p_value\": p_value}\n",
    "\n",
    "            except Exception as e:\n",
    "                print(f\"Error processing {file_name}: {e}\")\n",
    "\n",
    "# Write correlation results to a JSON file\n",
    "output_file_path = './correlation_results.json'\n",
    "with open(output_file_path, 'w') as output_file:\n",
    "    json.dump(correlation_results, output_file, indent=4)\n",
    "\n",
    "print(f\"Correlation results saved to {output_file_path}\")\n"
   ]
  },
  {
   "cell_type": "code",
   "execution_count": null,
   "metadata": {},
   "outputs": [],
   "source": []
  }
 ],
 "metadata": {
  "kernelspec": {
   "display_name": "Python 3",
   "language": "python",
   "name": "python3"
  },
  "language_info": {
   "codemirror_mode": {
    "name": "ipython",
    "version": 3
   },
   "file_extension": ".py",
   "mimetype": "text/x-python",
   "name": "python",
   "nbconvert_exporter": "python",
   "pygments_lexer": "ipython3",
   "version": "3.12.2"
  }
 },
 "nbformat": 4,
 "nbformat_minor": 2
}
